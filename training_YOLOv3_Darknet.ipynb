{
  "nbformat": 4,
  "nbformat_minor": 0,
  "metadata": {
    "colab": {
      "provenance": [],
      "authorship_tag": "ABX9TyOrDplceOF9zJp/k6OPcXOK",
      "include_colab_link": true
    },
    "kernelspec": {
      "name": "python3",
      "display_name": "Python 3"
    },
    "language_info": {
      "name": "python"
    },
    "accelerator": "TPU",
    "gpuClass": "standard"
  },
  "cells": [
    {
      "cell_type": "markdown",
      "metadata": {
        "id": "view-in-github",
        "colab_type": "text"
      },
      "source": [
        "<a href=\"https://colab.research.google.com/github/Rumeysakeskin/Traffic-Signs-Detection-with-YOLO/blob/main/traffic_sign_detection_YOLOv3_Darknet.ipynb\" target=\"_parent\"><img src=\"https://colab.research.google.com/assets/colab-badge.svg\" alt=\"Open In Colab\"/></a>"
      ]
    },
    {
      "cell_type": "markdown",
      "source": [
        "**INSTALL DARKNET**"
      ],
      "metadata": {
        "id": "oIZnyl9aP54q"
      }
    },
    {
      "cell_type": "markdown",
      "source": [
        "Darknet: It is an open-source neural network framework. We will use it to train the pre-trained weights later."
      ],
      "metadata": {
        "id": "9_RB1v79RB5B"
      }
    },
    {
      "cell_type": "code",
      "source": [
        "# Clone the darknet\n",
        "!git clone https://github.com/AlexeyAB/darknet\n",
        "%cd darknet"
      ],
      "metadata": {
        "colab": {
          "base_uri": "https://localhost:8080/"
        },
        "id": "vWkBHcZ0Qrgp",
        "outputId": "c6047d5e-30d1-4181-bd78-c06e76a2c244"
      },
      "execution_count": 1,
      "outputs": [
        {
          "output_type": "stream",
          "name": "stdout",
          "text": [
            "Cloning into 'darknet'...\n",
            "remote: Enumerating objects: 15502, done.\u001b[K\n",
            "remote: Total 15502 (delta 0), reused 0 (delta 0), pack-reused 15502\u001b[K\n",
            "Receiving objects: 100% (15502/15502), 14.15 MiB | 14.68 MiB/s, done.\n",
            "Resolving deltas: 100% (10404/10404), done.\n",
            "/content/darknet\n"
          ]
        }
      ]
    },
    {
      "cell_type": "code",
      "source": [
        "# change makefile to have GPU and OPENCV enable\n",
        "!sed -i 's/OPENCV=0/OPENCV=1/' Makefile\n",
        "!sed -i 's/GPU=0/GPU=1/' Makefile\n",
        "!sed -i 's/CUDNN=0/CUDNN=1/' Makefile\n",
        "!make\n",
        "!./darknet"
      ],
      "metadata": {
        "id": "DpLDug76qalG"
      },
      "execution_count": null,
      "outputs": []
    },
    {
      "cell_type": "markdown",
      "source": [
        "Now we need pre-trained weights, you can use darknet53.conv.74. This weight is going to be retrained on given data."
      ],
      "metadata": {
        "id": "EsNkqPJZRcA4"
      }
    },
    {
      "cell_type": "code",
      "source": [
        "# Download weights darknet model 53\n",
        "!wget https://pjreddie.com/media/files/darknet53.conv.74\n",
        "!ls"
      ],
      "metadata": {
        "colab": {
          "base_uri": "https://localhost:8080/"
        },
        "id": "VOB4FnfXQyJS",
        "outputId": "849af89f-b7ab-412b-c575-6de643219d4e"
      },
      "execution_count": 3,
      "outputs": [
        {
          "output_type": "stream",
          "name": "stdout",
          "text": [
            "--2023-02-15 10:38:54--  https://pjreddie.com/media/files/darknet53.conv.74\n",
            "Resolving pjreddie.com (pjreddie.com)... 128.208.4.108\n",
            "Connecting to pjreddie.com (pjreddie.com)|128.208.4.108|:443... connected.\n",
            "HTTP request sent, awaiting response... 200 OK\n",
            "Length: 162482580 (155M) [application/octet-stream]\n",
            "Saving to: ‘darknet53.conv.74’\n",
            "\n",
            "darknet53.conv.74   100%[===================>] 154.96M  55.7MB/s    in 2.8s    \n",
            "\n",
            "2023-02-15 10:38:58 (55.7 MB/s) - ‘darknet53.conv.74’ saved [162482580/162482580]\n",
            "\n",
            "3rdparty\tdarknet53.conv.74\tinclude\t\t       results\n",
            "backup\t\tDarknetConfig.cmake.in\tjson_mjpeg_streams.sh  scripts\n",
            "build\t\tdarknet_images.py\tLICENSE\t\t       src\n",
            "build.ps1\tdarknet.py\t\tMakefile\t       vcpkg.json\n",
            "cfg\t\tdarknet_video.py\tnet_cam_v3.sh\t       video_yolov3.sh\n",
            "cmake\t\tdata\t\t\tnet_cam_v4.sh\t       video_yolov4.sh\n",
            "CMakeLists.txt\timage_yolov3.sh\t\tobj\n",
            "darknet\t\timage_yolov4.sh\t\tREADME.md\n"
          ]
        }
      ]
    },
    {
      "cell_type": "markdown",
      "source": [
        "**CHECK DARKNET INSTALLATION**"
      ],
      "metadata": {
        "id": "vn0lvXvDPtoS"
      }
    },
    {
      "cell_type": "code",
      "source": [
        "!./darknet detect cfg/yolov3.cfg weights/yolov3.weights data/test-image.jpg"
      ],
      "metadata": {
        "colab": {
          "base_uri": "https://localhost:8080/"
        },
        "id": "1Cki7EwmQ0x-",
        "outputId": "fc286e00-513e-4418-c521-6c8051045a9d"
      },
      "execution_count": 4,
      "outputs": [
        {
          "output_type": "stream",
          "name": "stdout",
          "text": [
            "CUDA status Error: file: ./src/dark_cuda.c : () : line: 38 : build time: Feb 15 2023 - 10:37:23 \n",
            "\n",
            " CUDA Error: no CUDA-capable device is detected\n",
            "Darknet error location: ./src/dark_cuda.c, check_error, line #69\n",
            "CUDA Error: no CUDA-capable device is detected: Bad file descriptor\n"
          ]
        }
      ]
    },
    {
      "cell_type": "markdown",
      "source": [
        "**DATA PREPROCESSING**"
      ],
      "metadata": {
        "id": "_cWom4VqARHL"
      }
    },
    {
      "cell_type": "code",
      "execution_count": 4,
      "metadata": {
        "id": "OUa7xZv3a4gV"
      },
      "outputs": [],
      "source": [
        "# Install and unzip dataset\n",
        "import zipfile, urllib.request, shutil\n",
        "url = \"https://sid.erda.dk/public/archives/ff17dc924eba88d5d01a807357d6614c/FullIJCNN2013.zip\" \n",
        "file_name = 'FullIJCNN2013.zip'\n",
        "\n",
        "with urllib.request.urlopen(url) as response, open(file_name, 'wb') as out_file:\n",
        "    shutil.copyfileobj(response, out_file)\n",
        "    with zipfile.ZipFile(file_name) as zf:\n",
        "        zf.extractall()"
      ]
    },
    {
      "cell_type": "code",
      "source": [
        "import os\n",
        "import pandas as pd\n",
        "import cv2"
      ],
      "metadata": {
        "id": "wVN_PbkebtUx"
      },
      "execution_count": 5,
      "outputs": []
    },
    {
      "cell_type": "markdown",
      "source": [
        "\n",
        "*   LIST OF CATEGORIES\n",
        "\n",
        "\n"
      ],
      "metadata": {
        "id": "_ck1V1IGbwra"
      }
    },
    {
      "cell_type": "code",
      "source": [
        "# Defining lists for categories according to the classes ID's\n",
        "# Prohibitory category:\n",
        "# circular Traffic Signs with white background and red border line\n",
        "p = [0, 1, 2, 3, 4, 5, 7, 8, 9, 10, 15, 16]\n",
        "\n",
        "# Danger category:\n",
        "# triangular Traffic Signs with white background and red border line\n",
        "d = [11, 18, 19, 20, 21, 22, 23, 24, 25, 26, 27, 28, 29, 30, 31]\n",
        "\n",
        "# Mandatory category:\n",
        "# circular Traffic Signs with blue background\n",
        "m = [33, 34, 35, 36, 37, 38, 39, 40]\n",
        "\n",
        "# Other category:\n",
        "o = [6, 12, 13, 14, 17, 32, 41, 42]"
      ],
      "metadata": {
        "id": "G27j66MIbuA-"
      },
      "execution_count": 6,
      "outputs": []
    },
    {
      "cell_type": "markdown",
      "source": [
        "\n",
        "*   LOADING ORIGINAL ANNOTATIONS\n",
        "\n"
      ],
      "metadata": {
        "id": "RGxZOHgVb8pz"
      }
    },
    {
      "cell_type": "code",
      "source": [
        "ann = pd.read_csv(\"FullIJCNN2013\" + '/' + 'gt.txt', \n",
        "                  names=['ImageID', 'XMin', 'YMin', 'XMax', 'YMax', 'ClassID'], \n",
        "                  sep=';')\n",
        "ann.head()"
      ],
      "metadata": {
        "colab": {
          "base_uri": "https://localhost:8080/",
          "height": 206
        },
        "id": "gUrYcohIb54k",
        "outputId": "4efbfae4-fe86-4ecc-fc1a-dbf6610dc2ac"
      },
      "execution_count": 7,
      "outputs": [
        {
          "output_type": "execute_result",
          "data": {
            "text/plain": [
              "     ImageID  XMin  YMin  XMax  YMax  ClassID\n",
              "0  00000.ppm   774   411   815   446       11\n",
              "1  00001.ppm   983   388  1024   432       40\n",
              "2  00001.ppm   386   494   442   552       38\n",
              "3  00001.ppm   973   335  1031   390       13\n",
              "4  00002.ppm   892   476  1006   592       39"
            ],
            "text/html": [
              "\n",
              "  <div id=\"df-a365bcec-2730-4104-97e7-88cf47d2b023\">\n",
              "    <div class=\"colab-df-container\">\n",
              "      <div>\n",
              "<style scoped>\n",
              "    .dataframe tbody tr th:only-of-type {\n",
              "        vertical-align: middle;\n",
              "    }\n",
              "\n",
              "    .dataframe tbody tr th {\n",
              "        vertical-align: top;\n",
              "    }\n",
              "\n",
              "    .dataframe thead th {\n",
              "        text-align: right;\n",
              "    }\n",
              "</style>\n",
              "<table border=\"1\" class=\"dataframe\">\n",
              "  <thead>\n",
              "    <tr style=\"text-align: right;\">\n",
              "      <th></th>\n",
              "      <th>ImageID</th>\n",
              "      <th>XMin</th>\n",
              "      <th>YMin</th>\n",
              "      <th>XMax</th>\n",
              "      <th>YMax</th>\n",
              "      <th>ClassID</th>\n",
              "    </tr>\n",
              "  </thead>\n",
              "  <tbody>\n",
              "    <tr>\n",
              "      <th>0</th>\n",
              "      <td>00000.ppm</td>\n",
              "      <td>774</td>\n",
              "      <td>411</td>\n",
              "      <td>815</td>\n",
              "      <td>446</td>\n",
              "      <td>11</td>\n",
              "    </tr>\n",
              "    <tr>\n",
              "      <th>1</th>\n",
              "      <td>00001.ppm</td>\n",
              "      <td>983</td>\n",
              "      <td>388</td>\n",
              "      <td>1024</td>\n",
              "      <td>432</td>\n",
              "      <td>40</td>\n",
              "    </tr>\n",
              "    <tr>\n",
              "      <th>2</th>\n",
              "      <td>00001.ppm</td>\n",
              "      <td>386</td>\n",
              "      <td>494</td>\n",
              "      <td>442</td>\n",
              "      <td>552</td>\n",
              "      <td>38</td>\n",
              "    </tr>\n",
              "    <tr>\n",
              "      <th>3</th>\n",
              "      <td>00001.ppm</td>\n",
              "      <td>973</td>\n",
              "      <td>335</td>\n",
              "      <td>1031</td>\n",
              "      <td>390</td>\n",
              "      <td>13</td>\n",
              "    </tr>\n",
              "    <tr>\n",
              "      <th>4</th>\n",
              "      <td>00002.ppm</td>\n",
              "      <td>892</td>\n",
              "      <td>476</td>\n",
              "      <td>1006</td>\n",
              "      <td>592</td>\n",
              "      <td>39</td>\n",
              "    </tr>\n",
              "  </tbody>\n",
              "</table>\n",
              "</div>\n",
              "      <button class=\"colab-df-convert\" onclick=\"convertToInteractive('df-a365bcec-2730-4104-97e7-88cf47d2b023')\"\n",
              "              title=\"Convert this dataframe to an interactive table.\"\n",
              "              style=\"display:none;\">\n",
              "        \n",
              "  <svg xmlns=\"http://www.w3.org/2000/svg\" height=\"24px\"viewBox=\"0 0 24 24\"\n",
              "       width=\"24px\">\n",
              "    <path d=\"M0 0h24v24H0V0z\" fill=\"none\"/>\n",
              "    <path d=\"M18.56 5.44l.94 2.06.94-2.06 2.06-.94-2.06-.94-.94-2.06-.94 2.06-2.06.94zm-11 1L8.5 8.5l.94-2.06 2.06-.94-2.06-.94L8.5 2.5l-.94 2.06-2.06.94zm10 10l.94 2.06.94-2.06 2.06-.94-2.06-.94-.94-2.06-.94 2.06-2.06.94z\"/><path d=\"M17.41 7.96l-1.37-1.37c-.4-.4-.92-.59-1.43-.59-.52 0-1.04.2-1.43.59L10.3 9.45l-7.72 7.72c-.78.78-.78 2.05 0 2.83L4 21.41c.39.39.9.59 1.41.59.51 0 1.02-.2 1.41-.59l7.78-7.78 2.81-2.81c.8-.78.8-2.07 0-2.86zM5.41 20L4 18.59l7.72-7.72 1.47 1.35L5.41 20z\"/>\n",
              "  </svg>\n",
              "      </button>\n",
              "      \n",
              "  <style>\n",
              "    .colab-df-container {\n",
              "      display:flex;\n",
              "      flex-wrap:wrap;\n",
              "      gap: 12px;\n",
              "    }\n",
              "\n",
              "    .colab-df-convert {\n",
              "      background-color: #E8F0FE;\n",
              "      border: none;\n",
              "      border-radius: 50%;\n",
              "      cursor: pointer;\n",
              "      display: none;\n",
              "      fill: #1967D2;\n",
              "      height: 32px;\n",
              "      padding: 0 0 0 0;\n",
              "      width: 32px;\n",
              "    }\n",
              "\n",
              "    .colab-df-convert:hover {\n",
              "      background-color: #E2EBFA;\n",
              "      box-shadow: 0px 1px 2px rgba(60, 64, 67, 0.3), 0px 1px 3px 1px rgba(60, 64, 67, 0.15);\n",
              "      fill: #174EA6;\n",
              "    }\n",
              "\n",
              "    [theme=dark] .colab-df-convert {\n",
              "      background-color: #3B4455;\n",
              "      fill: #D2E3FC;\n",
              "    }\n",
              "\n",
              "    [theme=dark] .colab-df-convert:hover {\n",
              "      background-color: #434B5C;\n",
              "      box-shadow: 0px 1px 3px 1px rgba(0, 0, 0, 0.15);\n",
              "      filter: drop-shadow(0px 1px 2px rgba(0, 0, 0, 0.3));\n",
              "      fill: #FFFFFF;\n",
              "    }\n",
              "  </style>\n",
              "\n",
              "      <script>\n",
              "        const buttonEl =\n",
              "          document.querySelector('#df-a365bcec-2730-4104-97e7-88cf47d2b023 button.colab-df-convert');\n",
              "        buttonEl.style.display =\n",
              "          google.colab.kernel.accessAllowed ? 'block' : 'none';\n",
              "\n",
              "        async function convertToInteractive(key) {\n",
              "          const element = document.querySelector('#df-a365bcec-2730-4104-97e7-88cf47d2b023');\n",
              "          const dataTable =\n",
              "            await google.colab.kernel.invokeFunction('convertToInteractive',\n",
              "                                                     [key], {});\n",
              "          if (!dataTable) return;\n",
              "\n",
              "          const docLinkHtml = 'Like what you see? Visit the ' +\n",
              "            '<a target=\"_blank\" href=https://colab.research.google.com/notebooks/data_table.ipynb>data table notebook</a>'\n",
              "            + ' to learn more about interactive tables.';\n",
              "          element.innerHTML = '';\n",
              "          dataTable['output_type'] = 'display_data';\n",
              "          await google.colab.output.renderOutput(dataTable, element);\n",
              "          const docLink = document.createElement('div');\n",
              "          docLink.innerHTML = docLinkHtml;\n",
              "          element.appendChild(docLink);\n",
              "        }\n",
              "      </script>\n",
              "    </div>\n",
              "  </div>\n",
              "  "
            ]
          },
          "metadata": {},
          "execution_count": 7
        }
      ]
    },
    {
      "cell_type": "markdown",
      "source": [
        "\n",
        "*   CALCULATION OF BOUNDING BOX'S PARAMETERS\n",
        "\n",
        "\n",
        "\n"
      ],
      "metadata": {
        "id": "thAOVhGkcF4a"
      }
    },
    {
      "cell_type": "code",
      "source": [
        "# Adding new empty columns to dataFrame to save numbers for YOLO format\n",
        "ann['CategoryID'] = ''\n",
        "ann['center x'] = ''\n",
        "ann['center y'] = ''\n",
        "ann['width'] = ''\n",
        "ann['height'] = ''\n",
        "\n",
        "# Getting category's ID according to the class's ID\n",
        "ann.loc[ann['ClassID'].isin(p), 'CategoryID'] = 0\n",
        "ann.loc[ann['ClassID'].isin(d), 'CategoryID'] = 1\n",
        "ann.loc[ann['ClassID'].isin(m), 'CategoryID'] = 2\n",
        "ann.loc[ann['ClassID'].isin(o), 'CategoryID'] = 3\n",
        "\n",
        "# Calculating bounding box's center in x and y for all rows\n",
        "ann['center x'] = (ann['XMax'] + ann['XMin']) / 2\n",
        "ann['center y'] = (ann['YMax'] + ann['YMin']) / 2\n",
        "\n",
        "# Calculating bounding box's width and height for all rows\n",
        "ann['width'] = ann['XMax'] - ann['XMin']\n",
        "ann['height'] = ann['YMax'] - ann['YMin']"
      ],
      "metadata": {
        "id": "IEGU0Ak0cBM4"
      },
      "execution_count": 8,
      "outputs": []
    },
    {
      "cell_type": "code",
      "source": [
        "# By using copy() we create separate dataFrame and initial dataFrame will not be changed.\n",
        "r = ann.loc[:, ['ImageID',\n",
        "                'CategoryID',\n",
        "                'center x',\n",
        "                'center y',\n",
        "                'width',\n",
        "                'height']].copy()\n",
        "r.head()"
      ],
      "metadata": {
        "colab": {
          "base_uri": "https://localhost:8080/",
          "height": 206
        },
        "id": "kMaYpOSdcNT_",
        "outputId": "b1910c4c-34fb-4d25-8780-7f5755508f10"
      },
      "execution_count": 9,
      "outputs": [
        {
          "output_type": "execute_result",
          "data": {
            "text/plain": [
              "     ImageID CategoryID  center x  center y  width  height\n",
              "0  00000.ppm          1     794.5     428.5     41      35\n",
              "1  00001.ppm          2    1003.5     410.0     41      44\n",
              "2  00001.ppm          2     414.0     523.0     56      58\n",
              "3  00001.ppm          3    1002.0     362.5     58      55\n",
              "4  00002.ppm          2     949.0     534.0    114     116"
            ],
            "text/html": [
              "\n",
              "  <div id=\"df-01ca4f1f-1666-4a77-93fb-81a18c26ee5d\">\n",
              "    <div class=\"colab-df-container\">\n",
              "      <div>\n",
              "<style scoped>\n",
              "    .dataframe tbody tr th:only-of-type {\n",
              "        vertical-align: middle;\n",
              "    }\n",
              "\n",
              "    .dataframe tbody tr th {\n",
              "        vertical-align: top;\n",
              "    }\n",
              "\n",
              "    .dataframe thead th {\n",
              "        text-align: right;\n",
              "    }\n",
              "</style>\n",
              "<table border=\"1\" class=\"dataframe\">\n",
              "  <thead>\n",
              "    <tr style=\"text-align: right;\">\n",
              "      <th></th>\n",
              "      <th>ImageID</th>\n",
              "      <th>CategoryID</th>\n",
              "      <th>center x</th>\n",
              "      <th>center y</th>\n",
              "      <th>width</th>\n",
              "      <th>height</th>\n",
              "    </tr>\n",
              "  </thead>\n",
              "  <tbody>\n",
              "    <tr>\n",
              "      <th>0</th>\n",
              "      <td>00000.ppm</td>\n",
              "      <td>1</td>\n",
              "      <td>794.5</td>\n",
              "      <td>428.5</td>\n",
              "      <td>41</td>\n",
              "      <td>35</td>\n",
              "    </tr>\n",
              "    <tr>\n",
              "      <th>1</th>\n",
              "      <td>00001.ppm</td>\n",
              "      <td>2</td>\n",
              "      <td>1003.5</td>\n",
              "      <td>410.0</td>\n",
              "      <td>41</td>\n",
              "      <td>44</td>\n",
              "    </tr>\n",
              "    <tr>\n",
              "      <th>2</th>\n",
              "      <td>00001.ppm</td>\n",
              "      <td>2</td>\n",
              "      <td>414.0</td>\n",
              "      <td>523.0</td>\n",
              "      <td>56</td>\n",
              "      <td>58</td>\n",
              "    </tr>\n",
              "    <tr>\n",
              "      <th>3</th>\n",
              "      <td>00001.ppm</td>\n",
              "      <td>3</td>\n",
              "      <td>1002.0</td>\n",
              "      <td>362.5</td>\n",
              "      <td>58</td>\n",
              "      <td>55</td>\n",
              "    </tr>\n",
              "    <tr>\n",
              "      <th>4</th>\n",
              "      <td>00002.ppm</td>\n",
              "      <td>2</td>\n",
              "      <td>949.0</td>\n",
              "      <td>534.0</td>\n",
              "      <td>114</td>\n",
              "      <td>116</td>\n",
              "    </tr>\n",
              "  </tbody>\n",
              "</table>\n",
              "</div>\n",
              "      <button class=\"colab-df-convert\" onclick=\"convertToInteractive('df-01ca4f1f-1666-4a77-93fb-81a18c26ee5d')\"\n",
              "              title=\"Convert this dataframe to an interactive table.\"\n",
              "              style=\"display:none;\">\n",
              "        \n",
              "  <svg xmlns=\"http://www.w3.org/2000/svg\" height=\"24px\"viewBox=\"0 0 24 24\"\n",
              "       width=\"24px\">\n",
              "    <path d=\"M0 0h24v24H0V0z\" fill=\"none\"/>\n",
              "    <path d=\"M18.56 5.44l.94 2.06.94-2.06 2.06-.94-2.06-.94-.94-2.06-.94 2.06-2.06.94zm-11 1L8.5 8.5l.94-2.06 2.06-.94-2.06-.94L8.5 2.5l-.94 2.06-2.06.94zm10 10l.94 2.06.94-2.06 2.06-.94-2.06-.94-.94-2.06-.94 2.06-2.06.94z\"/><path d=\"M17.41 7.96l-1.37-1.37c-.4-.4-.92-.59-1.43-.59-.52 0-1.04.2-1.43.59L10.3 9.45l-7.72 7.72c-.78.78-.78 2.05 0 2.83L4 21.41c.39.39.9.59 1.41.59.51 0 1.02-.2 1.41-.59l7.78-7.78 2.81-2.81c.8-.78.8-2.07 0-2.86zM5.41 20L4 18.59l7.72-7.72 1.47 1.35L5.41 20z\"/>\n",
              "  </svg>\n",
              "      </button>\n",
              "      \n",
              "  <style>\n",
              "    .colab-df-container {\n",
              "      display:flex;\n",
              "      flex-wrap:wrap;\n",
              "      gap: 12px;\n",
              "    }\n",
              "\n",
              "    .colab-df-convert {\n",
              "      background-color: #E8F0FE;\n",
              "      border: none;\n",
              "      border-radius: 50%;\n",
              "      cursor: pointer;\n",
              "      display: none;\n",
              "      fill: #1967D2;\n",
              "      height: 32px;\n",
              "      padding: 0 0 0 0;\n",
              "      width: 32px;\n",
              "    }\n",
              "\n",
              "    .colab-df-convert:hover {\n",
              "      background-color: #E2EBFA;\n",
              "      box-shadow: 0px 1px 2px rgba(60, 64, 67, 0.3), 0px 1px 3px 1px rgba(60, 64, 67, 0.15);\n",
              "      fill: #174EA6;\n",
              "    }\n",
              "\n",
              "    [theme=dark] .colab-df-convert {\n",
              "      background-color: #3B4455;\n",
              "      fill: #D2E3FC;\n",
              "    }\n",
              "\n",
              "    [theme=dark] .colab-df-convert:hover {\n",
              "      background-color: #434B5C;\n",
              "      box-shadow: 0px 1px 3px 1px rgba(0, 0, 0, 0.15);\n",
              "      filter: drop-shadow(0px 1px 2px rgba(0, 0, 0, 0.3));\n",
              "      fill: #FFFFFF;\n",
              "    }\n",
              "  </style>\n",
              "\n",
              "      <script>\n",
              "        const buttonEl =\n",
              "          document.querySelector('#df-01ca4f1f-1666-4a77-93fb-81a18c26ee5d button.colab-df-convert');\n",
              "        buttonEl.style.display =\n",
              "          google.colab.kernel.accessAllowed ? 'block' : 'none';\n",
              "\n",
              "        async function convertToInteractive(key) {\n",
              "          const element = document.querySelector('#df-01ca4f1f-1666-4a77-93fb-81a18c26ee5d');\n",
              "          const dataTable =\n",
              "            await google.colab.kernel.invokeFunction('convertToInteractive',\n",
              "                                                     [key], {});\n",
              "          if (!dataTable) return;\n",
              "\n",
              "          const docLinkHtml = 'Like what you see? Visit the ' +\n",
              "            '<a target=\"_blank\" href=https://colab.research.google.com/notebooks/data_table.ipynb>data table notebook</a>'\n",
              "            + ' to learn more about interactive tables.';\n",
              "          element.innerHTML = '';\n",
              "          dataTable['output_type'] = 'display_data';\n",
              "          await google.colab.output.renderOutput(dataTable, element);\n",
              "          const docLink = document.createElement('div');\n",
              "          docLink.innerHTML = docLinkHtml;\n",
              "          element.appendChild(docLink);\n",
              "        }\n",
              "      </script>\n",
              "    </div>\n",
              "  </div>\n",
              "  "
            ]
          },
          "metadata": {},
          "execution_count": 9
        }
      ]
    },
    {
      "cell_type": "markdown",
      "source": [
        "\n",
        "*   NORMALIZING BOUNDING BOX'S PARAMETERS\n",
        "*   SAVING ANNOTATONS IN TXT FILES\n",
        "*   COVERTING IMAGES FROM PPM TO JPG\n",
        "\n",
        "\n",
        "\n",
        "\n",
        "\n",
        "\n",
        "\n",
        "\n",
        "\n",
        "\n",
        "\n",
        "\n",
        "\n",
        "\n"
      ],
      "metadata": {
        "id": "THvoXs-gfqob"
      }
    },
    {
      "cell_type": "code",
      "source": [
        "\n",
        "path_dir = \"/content/darknet/FullIJCNN2013/\"\n",
        "# path = os.chdir(path_dir)\n",
        "path = os.listdir(path_dir)\n",
        "\n",
        "for file in path:\n",
        "      \n",
        "    # Checking if filename ends with '.ppm'\n",
        "    if file.endswith('.ppm'):\n",
        "        # Reading image and getting its real width and height\n",
        "        image_ppm = cv2.imread(file)\n",
        "\n",
        "        # Slicing from tuple only first two elements\n",
        "        h, w = image_ppm.shape[:2]\n",
        "        # Slicing only name of the file without extension\n",
        "        image_name = file[:-4]\n",
        "\n",
        "        sub_r = r.loc[r['ImageID'] == file].copy()\n",
        "\n",
        "        # Normalizing calculated bounding boxes' coordinates according to the real image width and height\n",
        "        sub_r['center x'] = sub_r['center x'] / w\n",
        "        sub_r['center y'] = sub_r['center y'] / h\n",
        "        sub_r['width'] = sub_r['width'] / w\n",
        "        sub_r['height'] = sub_r['height'] / h\n",
        "\n",
        "        resulted_frame = sub_r.loc[:, ['CategoryID',\n",
        "                                           'center x',\n",
        "                                           'center y',\n",
        "                                           'width',\n",
        "                                           'height']].copy()\n",
        "\n",
        "        # Checking if there is no any annotations for current image\n",
        "        if resulted_frame.isnull().values.all():\n",
        "            # Skipping this image\n",
        "            continue\n",
        "\n",
        "        # Saving resulted Pandas dataFrame into txt file\n",
        "        path_to_save = path_dir + image_name + '.txt'\n",
        "        if not os.path.exists(path_to_save):\n",
        "          resulted_frame.to_csv(path_to_save, header=False, index=False, sep=' ')\n",
        "\n",
        "        # Saving image in jpg format by OpenCV function            \n",
        "        path_to_save = path_dir + image_name + '.jpg'\n",
        "        if not os.path.exists(path_to_save):\n",
        "          cv2.imwrite(path_to_save, image_ppm)"
      ],
      "metadata": {
        "id": "i-PRpgCqcQTq"
      },
      "execution_count": 13,
      "outputs": []
    },
    {
      "cell_type": "code",
      "source": [
        "for file in path: \n",
        "    # Checking if filename ends with '.ppm'\n",
        "    if file.endswith('.ppm'):\n",
        "      os.remove(file)"
      ],
      "metadata": {
        "id": "1C9npjawpJNt"
      },
      "execution_count": 14,
      "outputs": []
    },
    {
      "cell_type": "markdown",
      "source": [
        "\n",
        "*   CREATING FILES TRAIN.TXT AND TEST.TXT\n",
        "\n",
        "\n"
      ],
      "metadata": {
        "id": "1ecSakPckhHi"
      }
    },
    {
      "cell_type": "code",
      "source": [
        "# Defining list to write paths in\n",
        "p = []\n",
        "\n",
        "for file in path:\n",
        "    # Checking if filename ends with '.jpg'\n",
        "    if file.endswith('.jpg'):\n",
        "        # Preparing path to save into train.txt file\n",
        "        path_to_save_into_txt_files = path_dir + file\n",
        "        p.append(path_to_save_into_txt_files + '\\n')\n",
        "        \n",
        "\n",
        "# Slicing first 15% of elements from the list to write into the test.txt file\n",
        "p_test = p[:int(len(p) * 0.15)]\n",
        "\n",
        "# Write into the train.txt file rest of the elements\n",
        "p_train = p[int(len(p) * 0.15):]\n",
        "\n",
        "\n",
        "# Creating file train.txt and writing 85% of lines in it\n",
        "with open('train.txt', 'w') as train_txt:\n",
        "    for e in p_train:\n",
        "        # Writing current path at the end of the file\n",
        "        train_txt.write(e)\n",
        "    print(\"TRAIN DATA CREATED!\")\n",
        "\n",
        "# Creating file test.txt and writing 15% of lines in it\n",
        "with open('test.txt', 'w') as test_txt:\n",
        "    for e in p_test:\n",
        "        # Writing current path at the end of the file\n",
        "        test_txt.write(e)\n",
        "    print(\"TEST DATA CREATED!\")"
      ],
      "metadata": {
        "id": "wi009p74ktem",
        "colab": {
          "base_uri": "https://localhost:8080/"
        },
        "outputId": "e5edef87-7bee-4331-f27d-d4ab682b5f30"
      },
      "execution_count": 14,
      "outputs": [
        {
          "output_type": "stream",
          "name": "stdout",
          "text": [
            "TRAIN DATA CREATED!\n",
            "TEST DATA CREATED!\n"
          ]
        }
      ]
    },
    {
      "cell_type": "markdown",
      "source": [
        "\n",
        "*   CREATING TRAFFIC_SIGN_DATA.DATA AND CLASSES.NAMES\n",
        "\n",
        "\n"
      ],
      "metadata": {
        "id": "NOf9o5AwoK88"
      }
    },
    {
      "cell_type": "code",
      "source": [
        "NAME_COUNTER = 0\n",
        "categories = [\"prohibitory\", \"danger\", \"mandatory\", \"other\"]\n",
        "with open(path_dir + 'classes.names', 'w') as names:\n",
        "    for cat in categories:\n",
        "        names.write(cat + '\\n')  # Copying all info from file txt to names\n",
        "NUM_CATEGORY = len(categories)     \n",
        "NUM_CATEGORY"
      ],
      "metadata": {
        "colab": {
          "base_uri": "https://localhost:8080/"
        },
        "id": "9n3yF4zpoVM4",
        "outputId": "54f90bf4-5533-415a-8ada-ce6b9901c87d"
      },
      "execution_count": 15,
      "outputs": [
        {
          "output_type": "execute_result",
          "data": {
            "text/plain": [
              "4"
            ]
          },
          "metadata": {},
          "execution_count": 15
        }
      ]
    },
    {
      "cell_type": "code",
      "source": [
        "data_path = \"/content/darknet/cfg/\" \n",
        "with open(data_path + 'ts_data.data', 'w') as data:\n",
        "    # Writing needed 5 lines\n",
        "    # Number of classes\n",
        "    # By using '\\n' we move to the next line\n",
        "    data.write('classes = ' + str(NUM_CATEGORY) + '\\n')\n",
        "\n",
        "    # Location of the train.txt file\n",
        "    data.write('train = ' + path_dir + 'train.txt' + '\\n')\n",
        "\n",
        "    # Location of the test.txt file\n",
        "    data.write('valid = ' + path_dir + 'test.txt' + '\\n')\n",
        "\n",
        "    # Location of the classes.names file\n",
        "    data.write('names = ' + path_dir + 'classes.names' + '\\n')\n",
        "\n",
        "    # Location where to save weights\n",
        "    data.write('backup = backup')"
      ],
      "metadata": {
        "id": "UTehsAVyowva"
      },
      "execution_count": 16,
      "outputs": []
    },
    {
      "cell_type": "markdown",
      "source": [
        "------------------------------------------------------------------------------"
      ],
      "metadata": {
        "id": "0JYeWBBe_VsM"
      }
    },
    {
      "cell_type": "markdown",
      "source": [
        "**TRAINING**"
      ],
      "metadata": {
        "id": "FE3u_-en_fhw"
      }
    },
    {
      "cell_type": "code",
      "source": [
        "%cd ..\n",
        "!ls"
      ],
      "metadata": {
        "colab": {
          "base_uri": "https://localhost:8080/"
        },
        "id": "lUeDTNyomPRC",
        "outputId": "563c7d4a-3890-4b01-aec0-9ade8c5e358a"
      },
      "execution_count": 17,
      "outputs": [
        {
          "output_type": "stream",
          "name": "stdout",
          "text": [
            "/content/darknet\n",
            "3rdparty\tdarknet53.conv.74\timage_yolov3.sh        obj\n",
            "backup\t\tDarknetConfig.cmake.in\timage_yolov4.sh        README.md\n",
            "build\t\tdarknet_images.py\tinclude\t\t       results\n",
            "build.ps1\tdarknet.py\t\tjson_mjpeg_streams.sh  scripts\n",
            "cfg\t\tdarknet_video.py\tLICENSE\t\t       src\n",
            "cmake\t\tdata\t\t\tMakefile\t       vcpkg.json\n",
            "CMakeLists.txt\tFullIJCNN2013\t\tnet_cam_v3.sh\t       video_yolov3.sh\n",
            "darknet\t\tFullIJCNN2013.zip\tnet_cam_v4.sh\t       video_yolov4.sh\n"
          ]
        }
      ]
    },
    {
      "cell_type": "code",
      "source": [
        "# Start the training\n",
        "!./darknet detector train cfg/ts_data.data cfg/yolov3_train.cfg darknet53.conv.74 -dont_show"
      ],
      "metadata": {
        "id": "MIwi2uGnf6VE"
      },
      "execution_count": null,
      "outputs": []
    },
    {
      "cell_type": "code",
      "source": [
        "# Checking for all weights in order to define the weights with biggest mAP\n",
        "!./darknet detector map cfg/ts_data.data cfg/yolov3_ts_train.cfg backup/yolov3_train_1000.weights"
      ],
      "metadata": {
        "id": "yitJSSm-kH6w"
      },
      "execution_count": null,
      "outputs": []
    },
    {
      "cell_type": "markdown",
      "source": [
        "**TESTING**"
      ],
      "metadata": {
        "id": "786rBLHhkUmt"
      }
    },
    {
      "cell_type": "code",
      "source": [
        "!./darknet detector demo cfg/ts_data.data cfg/yolov3_ts_test.cfg weights/yolov3_train_1000.weights data/traffic-sign-to-test.mp4 -out_filename traffic-sign-to-test.avi -dont_show"
      ],
      "metadata": {
        "id": "Ur0m-McNkYPz"
      },
      "execution_count": null,
      "outputs": []
    }
  ]
}
