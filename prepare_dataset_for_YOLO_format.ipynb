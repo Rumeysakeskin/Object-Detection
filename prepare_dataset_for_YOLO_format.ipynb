{
  "nbformat": 4,
  "nbformat_minor": 0,
  "metadata": {
    "colab": {
      "provenance": [],
      "authorship_tag": "ABX9TyMvdbX3AqWavOHCIbzlgGKB",
      "include_colab_link": true
    },
    "kernelspec": {
      "name": "python3",
      "display_name": "Python 3"
    },
    "language_info": {
      "name": "python"
    }
  },
  "cells": [
    {
      "cell_type": "markdown",
      "metadata": {
        "id": "view-in-github",
        "colab_type": "text"
      },
      "source": [
        "<a href=\"https://colab.research.google.com/github/Rumeysakeskin/Object-Detection/blob/main/prepare_dataset_for__YOLO_format.ipynb\" target=\"_parent\"><img src=\"https://colab.research.google.com/assets/colab-badge.svg\" alt=\"Open In Colab\"/></a>"
      ]
    },
    {
      "cell_type": "code",
      "execution_count": 1,
      "metadata": {
        "id": "OUa7xZv3a4gV"
      },
      "outputs": [],
      "source": [
        "# https://sid.erda.dk/public/archives/ff17dc924eba88d5d01a807357d6614c/published-archive.html\n",
        "\n",
        "# Install and unzip dataset\n",
        "import zipfile, urllib.request, shutil\n",
        "url = \"https://sid.erda.dk/public/archives/ff17dc924eba88d5d01a807357d6614c/FullIJCNN2013.zip\" \n",
        "file_name = 'FullIJCNN2013.zip'\n",
        "\n",
        "with urllib.request.urlopen(url) as response, open(file_name, 'wb') as out_file:\n",
        "    shutil.copyfileobj(response, out_file)\n",
        "    with zipfile.ZipFile(file_name) as zf:\n",
        "        zf.extractall()"
      ]
    },
    {
      "cell_type": "code",
      "source": [
        "import os\n",
        "import pandas as pd\n",
        "import cv2"
      ],
      "metadata": {
        "id": "wVN_PbkebtUx"
      },
      "execution_count": 2,
      "outputs": []
    },
    {
      "cell_type": "markdown",
      "source": [
        "\n",
        "*   LIST OF CATEGORIES\n",
        "\n",
        "\n"
      ],
      "metadata": {
        "id": "_ck1V1IGbwra"
      }
    },
    {
      "cell_type": "code",
      "source": [
        "# Defining lists for categories according to the classes ID's\n",
        "# Prohibitory category:\n",
        "# circular Traffic Signs with white background and red border line\n",
        "p = [0, 1, 2, 3, 4, 5, 7, 8, 9, 10, 15, 16]\n",
        "\n",
        "# Danger category:\n",
        "# triangular Traffic Signs with white background and red border line\n",
        "d = [11, 18, 19, 20, 21, 22, 23, 24, 25, 26, 27, 28, 29, 30, 31]\n",
        "\n",
        "# Mandatory category:\n",
        "# circular Traffic Signs with blue background\n",
        "m = [33, 34, 35, 36, 37, 38, 39, 40]\n",
        "\n",
        "# Other category:\n",
        "o = [6, 12, 13, 14, 17, 32, 41, 42]"
      ],
      "metadata": {
        "id": "G27j66MIbuA-"
      },
      "execution_count": 3,
      "outputs": []
    },
    {
      "cell_type": "markdown",
      "source": [
        "\n",
        "*   LOADING ORIGINAL ANNOTATIONS\n",
        "\n"
      ],
      "metadata": {
        "id": "RGxZOHgVb8pz"
      }
    },
    {
      "cell_type": "code",
      "source": [
        "ann = pd.read_csv(\"FullIJCNN2013\" + '/' + 'gt.txt', \n",
        "                  names=['ImageID', 'XMin', 'YMin', 'XMax', 'YMax', 'ClassID'], \n",
        "                  sep=';')\n",
        "ann.head()"
      ],
      "metadata": {
        "colab": {
          "base_uri": "https://localhost:8080/",
          "height": 206
        },
        "id": "gUrYcohIb54k",
        "outputId": "f6c765e5-9cb9-4845-ae16-8fdd100aebfc"
      },
      "execution_count": 4,
      "outputs": [
        {
          "output_type": "execute_result",
          "data": {
            "text/plain": [
              "     ImageID  XMin  YMin  XMax  YMax  ClassID\n",
              "0  00000.ppm   774   411   815   446       11\n",
              "1  00001.ppm   983   388  1024   432       40\n",
              "2  00001.ppm   386   494   442   552       38\n",
              "3  00001.ppm   973   335  1031   390       13\n",
              "4  00002.ppm   892   476  1006   592       39"
            ],
            "text/html": [
              "\n",
              "  <div id=\"df-2d9d9a82-b1ed-4928-84d3-b7dd424de663\">\n",
              "    <div class=\"colab-df-container\">\n",
              "      <div>\n",
              "<style scoped>\n",
              "    .dataframe tbody tr th:only-of-type {\n",
              "        vertical-align: middle;\n",
              "    }\n",
              "\n",
              "    .dataframe tbody tr th {\n",
              "        vertical-align: top;\n",
              "    }\n",
              "\n",
              "    .dataframe thead th {\n",
              "        text-align: right;\n",
              "    }\n",
              "</style>\n",
              "<table border=\"1\" class=\"dataframe\">\n",
              "  <thead>\n",
              "    <tr style=\"text-align: right;\">\n",
              "      <th></th>\n",
              "      <th>ImageID</th>\n",
              "      <th>XMin</th>\n",
              "      <th>YMin</th>\n",
              "      <th>XMax</th>\n",
              "      <th>YMax</th>\n",
              "      <th>ClassID</th>\n",
              "    </tr>\n",
              "  </thead>\n",
              "  <tbody>\n",
              "    <tr>\n",
              "      <th>0</th>\n",
              "      <td>00000.ppm</td>\n",
              "      <td>774</td>\n",
              "      <td>411</td>\n",
              "      <td>815</td>\n",
              "      <td>446</td>\n",
              "      <td>11</td>\n",
              "    </tr>\n",
              "    <tr>\n",
              "      <th>1</th>\n",
              "      <td>00001.ppm</td>\n",
              "      <td>983</td>\n",
              "      <td>388</td>\n",
              "      <td>1024</td>\n",
              "      <td>432</td>\n",
              "      <td>40</td>\n",
              "    </tr>\n",
              "    <tr>\n",
              "      <th>2</th>\n",
              "      <td>00001.ppm</td>\n",
              "      <td>386</td>\n",
              "      <td>494</td>\n",
              "      <td>442</td>\n",
              "      <td>552</td>\n",
              "      <td>38</td>\n",
              "    </tr>\n",
              "    <tr>\n",
              "      <th>3</th>\n",
              "      <td>00001.ppm</td>\n",
              "      <td>973</td>\n",
              "      <td>335</td>\n",
              "      <td>1031</td>\n",
              "      <td>390</td>\n",
              "      <td>13</td>\n",
              "    </tr>\n",
              "    <tr>\n",
              "      <th>4</th>\n",
              "      <td>00002.ppm</td>\n",
              "      <td>892</td>\n",
              "      <td>476</td>\n",
              "      <td>1006</td>\n",
              "      <td>592</td>\n",
              "      <td>39</td>\n",
              "    </tr>\n",
              "  </tbody>\n",
              "</table>\n",
              "</div>\n",
              "      <button class=\"colab-df-convert\" onclick=\"convertToInteractive('df-2d9d9a82-b1ed-4928-84d3-b7dd424de663')\"\n",
              "              title=\"Convert this dataframe to an interactive table.\"\n",
              "              style=\"display:none;\">\n",
              "        \n",
              "  <svg xmlns=\"http://www.w3.org/2000/svg\" height=\"24px\"viewBox=\"0 0 24 24\"\n",
              "       width=\"24px\">\n",
              "    <path d=\"M0 0h24v24H0V0z\" fill=\"none\"/>\n",
              "    <path d=\"M18.56 5.44l.94 2.06.94-2.06 2.06-.94-2.06-.94-.94-2.06-.94 2.06-2.06.94zm-11 1L8.5 8.5l.94-2.06 2.06-.94-2.06-.94L8.5 2.5l-.94 2.06-2.06.94zm10 10l.94 2.06.94-2.06 2.06-.94-2.06-.94-.94-2.06-.94 2.06-2.06.94z\"/><path d=\"M17.41 7.96l-1.37-1.37c-.4-.4-.92-.59-1.43-.59-.52 0-1.04.2-1.43.59L10.3 9.45l-7.72 7.72c-.78.78-.78 2.05 0 2.83L4 21.41c.39.39.9.59 1.41.59.51 0 1.02-.2 1.41-.59l7.78-7.78 2.81-2.81c.8-.78.8-2.07 0-2.86zM5.41 20L4 18.59l7.72-7.72 1.47 1.35L5.41 20z\"/>\n",
              "  </svg>\n",
              "      </button>\n",
              "      \n",
              "  <style>\n",
              "    .colab-df-container {\n",
              "      display:flex;\n",
              "      flex-wrap:wrap;\n",
              "      gap: 12px;\n",
              "    }\n",
              "\n",
              "    .colab-df-convert {\n",
              "      background-color: #E8F0FE;\n",
              "      border: none;\n",
              "      border-radius: 50%;\n",
              "      cursor: pointer;\n",
              "      display: none;\n",
              "      fill: #1967D2;\n",
              "      height: 32px;\n",
              "      padding: 0 0 0 0;\n",
              "      width: 32px;\n",
              "    }\n",
              "\n",
              "    .colab-df-convert:hover {\n",
              "      background-color: #E2EBFA;\n",
              "      box-shadow: 0px 1px 2px rgba(60, 64, 67, 0.3), 0px 1px 3px 1px rgba(60, 64, 67, 0.15);\n",
              "      fill: #174EA6;\n",
              "    }\n",
              "\n",
              "    [theme=dark] .colab-df-convert {\n",
              "      background-color: #3B4455;\n",
              "      fill: #D2E3FC;\n",
              "    }\n",
              "\n",
              "    [theme=dark] .colab-df-convert:hover {\n",
              "      background-color: #434B5C;\n",
              "      box-shadow: 0px 1px 3px 1px rgba(0, 0, 0, 0.15);\n",
              "      filter: drop-shadow(0px 1px 2px rgba(0, 0, 0, 0.3));\n",
              "      fill: #FFFFFF;\n",
              "    }\n",
              "  </style>\n",
              "\n",
              "      <script>\n",
              "        const buttonEl =\n",
              "          document.querySelector('#df-2d9d9a82-b1ed-4928-84d3-b7dd424de663 button.colab-df-convert');\n",
              "        buttonEl.style.display =\n",
              "          google.colab.kernel.accessAllowed ? 'block' : 'none';\n",
              "\n",
              "        async function convertToInteractive(key) {\n",
              "          const element = document.querySelector('#df-2d9d9a82-b1ed-4928-84d3-b7dd424de663');\n",
              "          const dataTable =\n",
              "            await google.colab.kernel.invokeFunction('convertToInteractive',\n",
              "                                                     [key], {});\n",
              "          if (!dataTable) return;\n",
              "\n",
              "          const docLinkHtml = 'Like what you see? Visit the ' +\n",
              "            '<a target=\"_blank\" href=https://colab.research.google.com/notebooks/data_table.ipynb>data table notebook</a>'\n",
              "            + ' to learn more about interactive tables.';\n",
              "          element.innerHTML = '';\n",
              "          dataTable['output_type'] = 'display_data';\n",
              "          await google.colab.output.renderOutput(dataTable, element);\n",
              "          const docLink = document.createElement('div');\n",
              "          docLink.innerHTML = docLinkHtml;\n",
              "          element.appendChild(docLink);\n",
              "        }\n",
              "      </script>\n",
              "    </div>\n",
              "  </div>\n",
              "  "
            ]
          },
          "metadata": {},
          "execution_count": 4
        }
      ]
    },
    {
      "cell_type": "markdown",
      "source": [
        "\n",
        "*   CALCULATION OF BOUNDING BOX'S PARAMETERS\n",
        "\n",
        "\n",
        "\n"
      ],
      "metadata": {
        "id": "thAOVhGkcF4a"
      }
    },
    {
      "cell_type": "code",
      "source": [
        "# Adding new empty columns to dataFrame to save numbers for YOLO format\n",
        "ann['CategoryID'] = ''\n",
        "ann['center x'] = ''\n",
        "ann['center y'] = ''\n",
        "ann['width'] = ''\n",
        "ann['height'] = ''\n",
        "\n",
        "# Getting category's ID according to the class's ID\n",
        "ann.loc[ann['ClassID'].isin(p), 'CategoryID'] = 0\n",
        "ann.loc[ann['ClassID'].isin(d), 'CategoryID'] = 1\n",
        "ann.loc[ann['ClassID'].isin(m), 'CategoryID'] = 2\n",
        "ann.loc[ann['ClassID'].isin(o), 'CategoryID'] = 3\n",
        "\n",
        "# Calculating bounding box's center in x and y for all rows\n",
        "ann['center x'] = (ann['XMax'] + ann['XMin']) / 2\n",
        "ann['center y'] = (ann['YMax'] + ann['YMin']) / 2\n",
        "\n",
        "# Calculating bounding box's width and height for all rows\n",
        "ann['width'] = ann['XMax'] - ann['XMin']\n",
        "ann['height'] = ann['YMax'] - ann['YMin']"
      ],
      "metadata": {
        "id": "IEGU0Ak0cBM4"
      },
      "execution_count": 5,
      "outputs": []
    },
    {
      "cell_type": "code",
      "source": [
        "# By using copy() we create separate dataFrame and initial dataFrame will not be changed.\n",
        "r = ann.loc[:, ['ImageID',\n",
        "                'CategoryID',\n",
        "                'center x',\n",
        "                'center y',\n",
        "                'width',\n",
        "                'height']].copy()\n",
        "r.head()"
      ],
      "metadata": {
        "colab": {
          "base_uri": "https://localhost:8080/",
          "height": 206
        },
        "id": "kMaYpOSdcNT_",
        "outputId": "4c3fb545-b27a-4868-b027-ef839f16781a"
      },
      "execution_count": 6,
      "outputs": [
        {
          "output_type": "execute_result",
          "data": {
            "text/plain": [
              "     ImageID CategoryID  center x  center y  width  height\n",
              "0  00000.ppm          1     794.5     428.5     41      35\n",
              "1  00001.ppm          2    1003.5     410.0     41      44\n",
              "2  00001.ppm          2     414.0     523.0     56      58\n",
              "3  00001.ppm          3    1002.0     362.5     58      55\n",
              "4  00002.ppm          2     949.0     534.0    114     116"
            ],
            "text/html": [
              "\n",
              "  <div id=\"df-9a646218-99d7-47e2-827e-79bd263a9ba9\">\n",
              "    <div class=\"colab-df-container\">\n",
              "      <div>\n",
              "<style scoped>\n",
              "    .dataframe tbody tr th:only-of-type {\n",
              "        vertical-align: middle;\n",
              "    }\n",
              "\n",
              "    .dataframe tbody tr th {\n",
              "        vertical-align: top;\n",
              "    }\n",
              "\n",
              "    .dataframe thead th {\n",
              "        text-align: right;\n",
              "    }\n",
              "</style>\n",
              "<table border=\"1\" class=\"dataframe\">\n",
              "  <thead>\n",
              "    <tr style=\"text-align: right;\">\n",
              "      <th></th>\n",
              "      <th>ImageID</th>\n",
              "      <th>CategoryID</th>\n",
              "      <th>center x</th>\n",
              "      <th>center y</th>\n",
              "      <th>width</th>\n",
              "      <th>height</th>\n",
              "    </tr>\n",
              "  </thead>\n",
              "  <tbody>\n",
              "    <tr>\n",
              "      <th>0</th>\n",
              "      <td>00000.ppm</td>\n",
              "      <td>1</td>\n",
              "      <td>794.5</td>\n",
              "      <td>428.5</td>\n",
              "      <td>41</td>\n",
              "      <td>35</td>\n",
              "    </tr>\n",
              "    <tr>\n",
              "      <th>1</th>\n",
              "      <td>00001.ppm</td>\n",
              "      <td>2</td>\n",
              "      <td>1003.5</td>\n",
              "      <td>410.0</td>\n",
              "      <td>41</td>\n",
              "      <td>44</td>\n",
              "    </tr>\n",
              "    <tr>\n",
              "      <th>2</th>\n",
              "      <td>00001.ppm</td>\n",
              "      <td>2</td>\n",
              "      <td>414.0</td>\n",
              "      <td>523.0</td>\n",
              "      <td>56</td>\n",
              "      <td>58</td>\n",
              "    </tr>\n",
              "    <tr>\n",
              "      <th>3</th>\n",
              "      <td>00001.ppm</td>\n",
              "      <td>3</td>\n",
              "      <td>1002.0</td>\n",
              "      <td>362.5</td>\n",
              "      <td>58</td>\n",
              "      <td>55</td>\n",
              "    </tr>\n",
              "    <tr>\n",
              "      <th>4</th>\n",
              "      <td>00002.ppm</td>\n",
              "      <td>2</td>\n",
              "      <td>949.0</td>\n",
              "      <td>534.0</td>\n",
              "      <td>114</td>\n",
              "      <td>116</td>\n",
              "    </tr>\n",
              "  </tbody>\n",
              "</table>\n",
              "</div>\n",
              "      <button class=\"colab-df-convert\" onclick=\"convertToInteractive('df-9a646218-99d7-47e2-827e-79bd263a9ba9')\"\n",
              "              title=\"Convert this dataframe to an interactive table.\"\n",
              "              style=\"display:none;\">\n",
              "        \n",
              "  <svg xmlns=\"http://www.w3.org/2000/svg\" height=\"24px\"viewBox=\"0 0 24 24\"\n",
              "       width=\"24px\">\n",
              "    <path d=\"M0 0h24v24H0V0z\" fill=\"none\"/>\n",
              "    <path d=\"M18.56 5.44l.94 2.06.94-2.06 2.06-.94-2.06-.94-.94-2.06-.94 2.06-2.06.94zm-11 1L8.5 8.5l.94-2.06 2.06-.94-2.06-.94L8.5 2.5l-.94 2.06-2.06.94zm10 10l.94 2.06.94-2.06 2.06-.94-2.06-.94-.94-2.06-.94 2.06-2.06.94z\"/><path d=\"M17.41 7.96l-1.37-1.37c-.4-.4-.92-.59-1.43-.59-.52 0-1.04.2-1.43.59L10.3 9.45l-7.72 7.72c-.78.78-.78 2.05 0 2.83L4 21.41c.39.39.9.59 1.41.59.51 0 1.02-.2 1.41-.59l7.78-7.78 2.81-2.81c.8-.78.8-2.07 0-2.86zM5.41 20L4 18.59l7.72-7.72 1.47 1.35L5.41 20z\"/>\n",
              "  </svg>\n",
              "      </button>\n",
              "      \n",
              "  <style>\n",
              "    .colab-df-container {\n",
              "      display:flex;\n",
              "      flex-wrap:wrap;\n",
              "      gap: 12px;\n",
              "    }\n",
              "\n",
              "    .colab-df-convert {\n",
              "      background-color: #E8F0FE;\n",
              "      border: none;\n",
              "      border-radius: 50%;\n",
              "      cursor: pointer;\n",
              "      display: none;\n",
              "      fill: #1967D2;\n",
              "      height: 32px;\n",
              "      padding: 0 0 0 0;\n",
              "      width: 32px;\n",
              "    }\n",
              "\n",
              "    .colab-df-convert:hover {\n",
              "      background-color: #E2EBFA;\n",
              "      box-shadow: 0px 1px 2px rgba(60, 64, 67, 0.3), 0px 1px 3px 1px rgba(60, 64, 67, 0.15);\n",
              "      fill: #174EA6;\n",
              "    }\n",
              "\n",
              "    [theme=dark] .colab-df-convert {\n",
              "      background-color: #3B4455;\n",
              "      fill: #D2E3FC;\n",
              "    }\n",
              "\n",
              "    [theme=dark] .colab-df-convert:hover {\n",
              "      background-color: #434B5C;\n",
              "      box-shadow: 0px 1px 3px 1px rgba(0, 0, 0, 0.15);\n",
              "      filter: drop-shadow(0px 1px 2px rgba(0, 0, 0, 0.3));\n",
              "      fill: #FFFFFF;\n",
              "    }\n",
              "  </style>\n",
              "\n",
              "      <script>\n",
              "        const buttonEl =\n",
              "          document.querySelector('#df-9a646218-99d7-47e2-827e-79bd263a9ba9 button.colab-df-convert');\n",
              "        buttonEl.style.display =\n",
              "          google.colab.kernel.accessAllowed ? 'block' : 'none';\n",
              "\n",
              "        async function convertToInteractive(key) {\n",
              "          const element = document.querySelector('#df-9a646218-99d7-47e2-827e-79bd263a9ba9');\n",
              "          const dataTable =\n",
              "            await google.colab.kernel.invokeFunction('convertToInteractive',\n",
              "                                                     [key], {});\n",
              "          if (!dataTable) return;\n",
              "\n",
              "          const docLinkHtml = 'Like what you see? Visit the ' +\n",
              "            '<a target=\"_blank\" href=https://colab.research.google.com/notebooks/data_table.ipynb>data table notebook</a>'\n",
              "            + ' to learn more about interactive tables.';\n",
              "          element.innerHTML = '';\n",
              "          dataTable['output_type'] = 'display_data';\n",
              "          await google.colab.output.renderOutput(dataTable, element);\n",
              "          const docLink = document.createElement('div');\n",
              "          docLink.innerHTML = docLinkHtml;\n",
              "          element.appendChild(docLink);\n",
              "        }\n",
              "      </script>\n",
              "    </div>\n",
              "  </div>\n",
              "  "
            ]
          },
          "metadata": {},
          "execution_count": 6
        }
      ]
    },
    {
      "cell_type": "markdown",
      "source": [
        "\n",
        "*   NORMALIZING BOUNDING BOX'S PARAMETERS\n",
        "*   SAVING ANNOTATONS IN TXT FILES\n",
        "*   COVERTING IMAGES FROM PPM TO JPG\n",
        "\n",
        "\n",
        "\n",
        "\n",
        "\n",
        "\n",
        "\n",
        "\n",
        "\n",
        "\n",
        "\n",
        "\n",
        "\n",
        "\n"
      ],
      "metadata": {
        "id": "THvoXs-gfqob"
      }
    },
    {
      "cell_type": "code",
      "source": [
        "path_dir = \"/content/FullIJCNN2013/\"\n",
        "path = os.listdir(path_dir)\n",
        "\n",
        "for file in path:\n",
        "      \n",
        "    # Checking if filename ends with '.ppm'\n",
        "    if file.endswith('.ppm'):\n",
        "        # Reading image and getting its real width and height\n",
        "        image_ppm = cv2.imread(file)\n",
        "\n",
        "        # Slicing from tuple only first two elements\n",
        "        h, w = image_ppm.shape[:2]\n",
        "        # Slicing only name of the file without extension\n",
        "        image_name = file[:-4]\n",
        "\n",
        "        sub_r = r.loc[r['ImageID'] == file].copy()\n",
        "\n",
        "        # Normalizing calculated bounding boxes' coordinates according to the real image width and height\n",
        "        sub_r['center x'] = sub_r['center x'] / w\n",
        "        sub_r['center y'] = sub_r['center y'] / h\n",
        "        sub_r['width'] = sub_r['width'] / w\n",
        "        sub_r['height'] = sub_r['height'] / h\n",
        "\n",
        "        resulted_frame = sub_r.loc[:, ['CategoryID',\n",
        "                                           'center x',\n",
        "                                           'center y',\n",
        "                                           'width',\n",
        "                                           'height']].copy()\n",
        "\n",
        "        # Checking if there is no any annotations for current image\n",
        "        if resulted_frame.isnull().values.all():\n",
        "            # Skipping this image\n",
        "            continue\n",
        "\n",
        "        # Saving resulted Pandas dataFrame into txt file\n",
        "        path_to_save = path_dir + image_name + '.txt'\n",
        "        if not os.path.exists(path_to_save):\n",
        "          resulted_frame.to_csv(path_to_save, header=False, index=False, sep=' ')\n",
        "\n",
        "        # Saving image in jpg format by OpenCV function            \n",
        "        path_to_save = path_dir + image_name + '.jpg'\n",
        "        if not os.path.exists(path_to_save):\n",
        "          cv2.imwrite(path_to_save, image_ppm)"
      ],
      "metadata": {
        "id": "i-PRpgCqcQTq"
      },
      "execution_count": 13,
      "outputs": []
    },
    {
      "cell_type": "markdown",
      "source": [
        "\n",
        "*   CREATING FILES TRAIN.TXT AND TEST.TXT\n",
        "\n",
        "\n"
      ],
      "metadata": {
        "id": "1ecSakPckhHi"
      }
    },
    {
      "cell_type": "code",
      "source": [
        "# Defining list to write paths in\n",
        "p = []\n",
        "\n",
        "for file in path:\n",
        "    # Checking if filename ends with '.jpg'\n",
        "    if file.endswith('.jpg'):\n",
        "        # Preparing path to save into train.txt file\n",
        "        path_to_save_into_txt_files = path_dir + file\n",
        "        p.append(path_to_save_into_txt_files + '\\n')\n",
        "\n",
        "# Slicing first 15% of elements from the list to write into the test.txt file\n",
        "p_test = p[:int(len(p) * 0.15)]\n",
        "\n",
        "# Write into the train.txt file rest of the elements\n",
        "p_train = p[int(len(p) * 0.15):]\n",
        "\n",
        "\n",
        "# Creating file train.txt and writing 85% of lines in it\n",
        "with open('train.txt', 'w') as train_txt:\n",
        "    for e in p_train:\n",
        "        # Writing current path at the end of the file\n",
        "        train_txt.write(e)\n",
        "\n",
        "# Creating file test.txt and writing 15% of lines in it\n",
        "with open('test.txt', 'w') as test_txt:\n",
        "    for e in p_test:\n",
        "        # Writing current path at the end of the file\n",
        "        test_txt.write(e)"
      ],
      "metadata": {
        "id": "wi009p74ktem"
      },
      "execution_count": 27,
      "outputs": []
    },
    {
      "cell_type": "markdown",
      "source": [
        "\n",
        "*   CREATING TRAFFIC_SIGN_DATA.DATA AND CLASSES.NAMES\n",
        "\n",
        "\n"
      ],
      "metadata": {
        "id": "NOf9o5AwoK88"
      }
    },
    {
      "cell_type": "code",
      "source": [
        "NAME_COUNTER = 0\n",
        "categories = [\"prohibitory\", \"danger\", \"mandatory\", \"other\"]\n",
        "with open(path_dir + 'classes.names', 'w') as names:\n",
        "    for cat in categories:\n",
        "        names.write(cat + '\\n')  # Copying all info from file txt to names\n",
        "NUM_CATEGORY = len(categories)     \n",
        "NUM_CATEGORY"
      ],
      "metadata": {
        "colab": {
          "base_uri": "https://localhost:8080/"
        },
        "id": "9n3yF4zpoVM4",
        "outputId": "33fb68b1-c382-4867-986d-b697d3262d89"
      },
      "execution_count": 38,
      "outputs": [
        {
          "output_type": "execute_result",
          "data": {
            "text/plain": [
              "4"
            ]
          },
          "metadata": {},
          "execution_count": 38
        }
      ]
    },
    {
      "cell_type": "code",
      "source": [
        "with open(path_dir + 'ts_data.data', 'w') as data:\n",
        "    # Writing needed 5 lines\n",
        "    # Number of classes\n",
        "    # By using '\\n' we move to the next line\n",
        "    data.write('classes = ' + str(NUM_CATEGORY) + '\\n')\n",
        "\n",
        "    # Location of the train.txt file\n",
        "    data.write('train = ' + path_dir + 'train.txt' + '\\n')\n",
        "\n",
        "    # Location of the test.txt file\n",
        "    data.write('valid = ' + path_dir + 'test.txt' + '\\n')\n",
        "\n",
        "    # Location of the classes.names file\n",
        "    data.write('names = ' + path_dir + 'classes.names' + '\\n')\n",
        "\n",
        "    # Location where to save weights\n",
        "    data.write('backup = backup')"
      ],
      "metadata": {
        "id": "UTehsAVyowva"
      },
      "execution_count": 41,
      "outputs": []
    }
  ]
}
